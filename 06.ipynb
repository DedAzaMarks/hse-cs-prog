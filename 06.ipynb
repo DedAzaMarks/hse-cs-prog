{
 "cells": [
  {
   "cell_type": "code",
   "execution_count": 88,
   "metadata": {
    "collapsed": true
   },
   "outputs": [],
   "source": [
    "# Сегодня поговорим про некоторые полезные модули в стандартной библиотеке\n",
    "\n",
    "import re # regular expression - библиотека регулярных выражений"
   ]
  },
  {
   "cell_type": "code",
   "execution_count": 89,
   "metadata": {
    "collapsed": false
   },
   "outputs": [],
   "source": [
    "f = open(\"pushkin.txt\") # Этот файл есть на моем компьютере; на вашем - нет\n",
    "text = f.read()\n",
    "f.close()"
   ]
  },
  {
   "cell_type": "code",
   "execution_count": 94,
   "metadata": {
    "collapsed": false
   },
   "outputs": [
    {
     "data": {
      "text/plain": [
       "'Я помню чудное мгновенье:\\nПередо мной явилась ты,\\nКак мимолетное виденье,\\nКак гений чистой красоты.\\n\\nВ томленьях грусти безнадежной,\\nВ тревогах шумной суеты,\\nЗвучал мне долго голос нежный\\nИ снились милые черты.\\n\\nШли годы. Бурь порыв мятежный\\nРассеял прежние мечты,\\nИ я забыл твой голос нежный,\\nТвои небесные черты.\\n\\nВ глуши, во мраке заточенья\\nТянулись тихо дни мои\\nБез божества, без вдохновенья,\\nБез слез, без жизни, без любви.\\n\\nДуше настало пробужденье:\\nИ вот опять явилась ты,\\nКак мимолетное виденье,\\nКак гений чистой красоты.\\n\\nИ сердце бьется в упоенье,\\nИ для него воскресли вновь\\nИ божество, и вдохновенье,\\nИ жизнь, и слезы, и любовь.\\n'"
      ]
     },
     "execution_count": 94,
     "metadata": {},
     "output_type": "execute_result"
    }
   ],
   "source": [
    "text"
   ]
  },
  {
   "cell_type": "code",
   "execution_count": 91,
   "metadata": {
    "collapsed": false
   },
   "outputs": [
    {
     "name": "stdout",
     "output_type": "stream",
     "text": [
      "Я помню чудное мгновенье:\n",
      "Передо мной явилась ты,\n",
      "Как мимолетное виденье,\n",
      "Как гений чистой красоты.\n",
      "\n",
      "В томленьях грусти безнадежной,\n",
      "В тревогах шумной суеты,\n",
      "Звучал мне долго голос нежный\n",
      "И снились милые черты.\n",
      "\n",
      "Шли годы. Бурь порыв мятежный\n",
      "Рассеял прежние мечты,\n",
      "И я забыл твой голос нежный,\n",
      "Твои небесные черты.\n",
      "\n",
      "В глуши, во мраке заточенья\n",
      "Тянулись тихо дни мои\n",
      "Без божества, без вдохновенья,\n",
      "Без слез, без жизни, без любви.\n",
      "\n",
      "Душе настало пробужденье:\n",
      "И вот опять явилась ты,\n",
      "Как мимолетное виденье,\n",
      "Как гений чистой красоты.\n",
      "\n",
      "И сердце бьется в упоенье,\n",
      "И для него воскресли вновь\n",
      "И божество, и вдохновенье,\n",
      "И жизнь, и слезы, и любовь.\n"
     ]
    }
   ],
   "source": [
    "for line in text.splitlines():\n",
    "    print(line)"
   ]
  },
  {
   "cell_type": "code",
   "execution_count": 97,
   "metadata": {
    "collapsed": false
   },
   "outputs": [
    {
     "data": {
      "text/plain": [
       "21"
      ]
     },
     "execution_count": 97,
     "metadata": {},
     "output_type": "execute_result"
    }
   ],
   "source": [
    "# Обычный поиск подстроки\n",
    "text.find(\"нье\")"
   ]
  },
  {
   "cell_type": "code",
   "execution_count": 98,
   "metadata": {
    "collapsed": false
   },
   "outputs": [
    {
     "data": {
      "text/plain": [
       "['мгновенье', 'виденье', 'пробужденье', 'виденье', 'упоенье', 'вдохновенье']"
      ]
     },
     "execution_count": 98,
     "metadata": {},
     "output_type": "execute_result"
    }
   ],
   "source": [
    "# Попробуем теперь найти все слова по шаблону\n",
    "re.findall(\"[А-Яа-я]*нье\", text) # любое сочетание русских букв + \"нье\""
   ]
  },
  {
   "cell_type": "code",
   "execution_count": 99,
   "metadata": {
    "collapsed": true
   },
   "outputs": [],
   "source": [
    "# Поищем что-нибудь поинтереснее. Например, на страницах в интернете\n",
    "\n",
    "import urllib.request"
   ]
  },
  {
   "cell_type": "code",
   "execution_count": 100,
   "metadata": {
    "collapsed": true
   },
   "outputs": [],
   "source": [
    "# Открываем главную страницу ВШЭ\n",
    "response = urllib.request.urlopen(\"http://hse.ru\")"
   ]
  },
  {
   "cell_type": "code",
   "execution_count": 101,
   "metadata": {
    "collapsed": false
   },
   "outputs": [],
   "source": [
    "# И читаем HTML-содержимое, декодируя его из кодировки utf-8\n",
    "text = response.read().decode(\"utf-8\")"
   ]
  },
  {
   "cell_type": "code",
   "execution_count": 102,
   "metadata": {
    "collapsed": false
   },
   "outputs": [
    {
     "data": {
      "text/plain": [
       "347156"
      ]
     },
     "execution_count": 102,
     "metadata": {},
     "output_type": "execute_result"
    }
   ],
   "source": [
    "len(text)"
   ]
  },
  {
   "cell_type": "code",
   "execution_count": 37,
   "metadata": {
    "collapsed": false
   },
   "outputs": [
    {
     "data": {
      "text/plain": [
       "'<!DOCTYPE html>\\n<!-- (c) Art. Lebedev Studio | http://www.artlebedev.com/ -->\\n<html xmlns:perl=\"urn:perl\"><head><meta http-equiv=\"Content-Type\" content=\"text/html; charset=UTF-8\"><meta http-equiv=\"X-UA-Compatible\" content=\"IE=Edge\"><link rel=\"image_src\" href=\"http://www.hse.ru/f/src/global/i/hse.png\"><link rel=\"icon\" href=\"/favicon.ico\" type=\"image/x-icon\"><!--[if lt IE 10]><script src=\"/f/src/global/bower_components/es5-shim/es5-shim.min.js\"></script><![endif]--><link rel=\"stylesheet\" href=\"/f/src/global/css/main.css?v2\" media=\"all\"><style>.post__extra_rt {display: none;} .post_first .splash__text {color: white; margin: 2.5em 2em 2.5em 4.7em;} .post_first .splash.splash_self {background-size: 120% auto; background-position:64% 53%;padding: 2em 0;} .post_first .splash.splash_self:hover {background-size: 130% auto;} .post_first .splash__text p + p {margin-top: 0em;}  /* Общие стили */ .splash__text {  margin: 3em 4em 3em 75px; }</style><style>.splash.fdp.pseudo {  color: white;  backgro'"
      ]
     },
     "execution_count": 37,
     "metadata": {},
     "output_type": "execute_result"
    }
   ],
   "source": [
    "# Вот что там записано в начале. Это HTML\n",
    "text[:1000]"
   ]
  },
  {
   "cell_type": "code",
   "execution_count": 104,
   "metadata": {
    "collapsed": false
   },
   "outputs": [
    {
     "name": "stdout",
     "output_type": "stream",
     "text": [
      "<a href=\"http://forum.hse.ru/newforum/index.php?t=thread&amp;frm_id=87&amp;S=e36a456f132336af8c64dd2943040f5c\">Отвечает проректор Вячеслав Башев.</a>\n",
      "<a href=\"http://family.hse.ru/\">ВышкаFamily</a>\n",
      "<a href=\"http://www.hse.ru/buildinghse\">Карта зданий</a>\n",
      "<a href=\"mailto:abitur@hse.ru\">abitur@hse.ru</a>\n",
      "<a href=\"mailto:press@hse.ru\">press@hse.ru</a>\n",
      "<a href=\"http://hselab.ru/news/hakaton-hack-people-hardware-internet-things\">«Hack For People»</a>\n",
      "<a href=\"http://philology.hse.ru/announcements/159486013.html\">«Социальные практики литературы: роль институтов в истории русской литературы»</a>\n",
      "<a href=\"http://oriental.hse.ru/syo/news/157264701.html\">Школу юного востоковеда</a>\n",
      "<a href=\"http://social.hse.ru/psy/sjp/\">Школу юного психолога</a>\n",
      "<a href=\"http://iims.hse.ru/csid/announcements/160297840.html\">Международного центра изучения институтов и развития для молодых исследователей</a>\n",
      "<a href=\"/news/159292440.html\">«Innovation in Business and Management: Future Global Challenge»</a>\n",
      "<a href=\"http://www.hse.ru/ba/gmu/announcements/140151864.html\">«Социология» и «Государственное и муниципальное управление»</a>\n",
      "<a href=\"http://social.hse.ru/psy/sjp/\">Школу юного психолога</a>\n",
      "<a href=\"http://iims.hse.ru/csid/announcements/160297840.html\">Международного центра изучения институтов и развития для молодых исследователей</a>\n",
      "<a href=\"/news/159292440.html\">«Innovation in Business and Management: Future Global Challenge»</a>\n",
      "<a href=\"/contacts.html\">Адреса и контакты</a>\n",
      "<a href=\"/copyright\">Условия использования материалов</a>\n",
      "<a href=\"http://www.hse.ru/sitemap.html\">Карта сайта</a>\n"
     ]
    }
   ],
   "source": [
    "# Попробуем теперь на этой странице найти все гиперссылки.\n",
    "# Они выглядят примерно так: <a href=\"адрес ссылки\"> текст подписи ссылки </a>\n",
    "\n",
    "# Используем здесь апострофы, чтобы кавычки внутри не пришлось экранировать\n",
    "res = re.findall('<a href=\"[^\"]+\">[^<]*</a>', text)\n",
    "for item in res:\n",
    "    print(item)"
   ]
  },
  {
   "cell_type": "code",
   "execution_count": 106,
   "metadata": {
    "collapsed": false
   },
   "outputs": [
    {
     "name": "stdout",
     "output_type": "stream",
     "text": [
      "('http://forum.hse.ru/newforum/index.php?t=thread&amp;frm_id=87&amp;S=e36a456f132336af8c64dd2943040f5c', 'Отвечает проректор Вячеслав Башев.')\n",
      "('http://family.hse.ru/', 'ВышкаFamily')\n",
      "('http://www.hse.ru/buildinghse', 'Карта зданий')\n",
      "('mailto:abitur@hse.ru', 'abitur@hse.ru')\n",
      "('mailto:press@hse.ru', 'press@hse.ru')\n",
      "('http://hselab.ru/news/hakaton-hack-people-hardware-internet-things', '«Hack For People»')\n",
      "('http://philology.hse.ru/announcements/159486013.html', '«Социальные практики литературы: роль институтов в истории русской литературы»')\n",
      "('http://oriental.hse.ru/syo/news/157264701.html', 'Школу юного востоковеда')\n",
      "('http://social.hse.ru/psy/sjp/', 'Школу юного психолога')\n",
      "('http://iims.hse.ru/csid/announcements/160297840.html', 'Международного центра изучения институтов и развития для молодых исследователей')\n",
      "('/news/159292440.html', '«Innovation in Business and Management: Future Global Challenge»')\n",
      "('http://www.hse.ru/ba/gmu/announcements/140151864.html', '«Социология» и «Государственное и муниципальное управление»')\n",
      "('http://social.hse.ru/psy/sjp/', 'Школу юного психолога')\n",
      "('http://iims.hse.ru/csid/announcements/160297840.html', 'Международного центра изучения институтов и развития для молодых исследователей')\n",
      "('/news/159292440.html', '«Innovation in Business and Management: Future Global Challenge»')\n",
      "('/contacts.html', 'Адреса и контакты')\n",
      "('/copyright', 'Условия использования материалов')\n",
      "('http://www.hse.ru/sitemap.html', 'Карта сайта')\n"
     ]
    }
   ],
   "source": [
    "# Выделим отдельно ссылку и текст с помощью скобок\n",
    "# Тогда мы получим пары\n",
    "res = re.findall('<a href=\"([^\"]+)\">([^<]*)</a>', text)\n",
    "for item in res:\n",
    "    print(item)"
   ]
  },
  {
   "cell_type": "code",
   "execution_count": 108,
   "metadata": {
    "collapsed": false
   },
   "outputs": [
    {
     "name": "stdout",
     "output_type": "stream",
     "text": [
      "('http://forum.hse.ru/newforum/index.php?t=thread&amp;frm_id=87&amp;S=e36a456f132336af8c64dd2943040f5c', 'Отвечает проректор Вячеслав Башев.')\n",
      "('http://family.hse.ru/', 'ВышкаFamily')\n",
      "('http://www.hse.ru/buildinghse', 'Карта зданий')\n",
      "('http://hselab.ru/news/hakaton-hack-people-hardware-internet-things', '«Hack For People»')\n",
      "('http://philology.hse.ru/announcements/159486013.html', '«Социальные практики литературы: роль институтов в истории русской литературы»')\n",
      "('http://oriental.hse.ru/syo/news/157264701.html', 'Школу юного востоковеда')\n",
      "('http://social.hse.ru/psy/sjp/', 'Школу юного психолога')\n",
      "('http://iims.hse.ru/csid/announcements/160297840.html', 'Международного центра изучения институтов и развития для молодых исследователей')\n",
      "('/news/159292440.html', '«Innovation in Business and Management: Future Global Challenge»')\n",
      "('http://www.hse.ru/ba/gmu/announcements/140151864.html', '«Социология» и «Государственное и муниципальное управление»')\n",
      "('http://social.hse.ru/psy/sjp/', 'Школу юного психолога')\n",
      "('http://iims.hse.ru/csid/announcements/160297840.html', 'Международного центра изучения институтов и развития для молодых исследователей')\n",
      "('/news/159292440.html', '«Innovation in Business and Management: Future Global Challenge»')\n",
      "('/contacts.html', 'Адреса и контакты')\n",
      "('/copyright', 'Условия использования материалов')\n",
      "('http://www.hse.ru/sitemap.html', 'Карта сайта')\n"
     ]
    }
   ],
   "source": [
    "# Тут встречаются e-mail адреса. Уберем их:\n",
    "res = re.findall('<a href=\"([^@\"]+)\">([^<]*)</a>', text)\n",
    "for item in res:\n",
    "    print(item)"
   ]
  },
  {
   "cell_type": "code",
   "execution_count": 110,
   "metadata": {
    "collapsed": false
   },
   "outputs": [
    {
     "name": "stdout",
     "output_type": "stream",
     "text": [
      "   |  0   1   2   3   4   5   6   7   8   9   A   B   C   D   E   F \n",
      "--------------------------------------------------------------------\n",
      "2  |      !   \"   #   $   %   &   '   (   )   *   +   ,   -   .   / \n",
      "3  |  0   1   2   3   4   5   6   7   8   9   :   ;   <   =   >   ? \n",
      "4  |  @   A   B   C   D   E   F   G   H   I   J   K   L   M   N   O \n",
      "5  |  P   Q   R   S   T   U   V   W   X   Y   Z   [   \\   ]   ^   _ \n",
      "6  |  `   a   b   c   d   e   f   g   h   i   j   k   l   m   n   o \n",
      "7  |  p   q   r   s   t   u   v   w   x   y   z   {   |   }   ~    \n"
     ]
    }
   ],
   "source": [
    "# Теперь совсем другая задача - попробуем напечатать на экране таблицу ASCII\n",
    "# (а то было много вопросов про коды символов)\n",
    "\n",
    "# Здесь сразу окончательный вариант кода\n",
    "print(\"   |\", end=\"\")\n",
    "for column in range(16):\n",
    "    print(\"  {:X} \".format(column), end=\"\")  # {:X} - шестнадцатеричный формат\n",
    "print()\n",
    "print(\"-\" * 68)\n",
    "\n",
    "for row in range(2, 8):\n",
    "    print(row, end=\"  |\")\n",
    "    for column in range(16):\n",
    "        code = 16 * row + column\n",
    "        print(\"  {} \".format(chr(code)), end=\"\")\n",
    "    print()"
   ]
  },
  {
   "cell_type": "code",
   "execution_count": 117,
   "metadata": {
    "collapsed": false
   },
   "outputs": [
    {
     "name": "stdout",
     "output_type": "stream",
     "text": [
      "Hello, Alexey! Alexey, please, compare 3.14 and 123!\n",
      "Hello, Alexey! Alexey, please, compare 3.14 and 123!\n"
     ]
    }
   ],
   "source": [
    "# Вообще функция format работает так:\n",
    "\n",
    "data = (\"Alexey\", 123, 3.14)\n",
    "\n",
    "print(\"Hello, {0}! {0}, please, compare {2} and {1}!\".format(*data))\n",
    "\n",
    "# Вопрос из зала про оператор % для форматирования строк\n",
    "# Вот как это можно было сделать по-старому:\n",
    "print(\"Hello, %s! %s, please, compare %.2f and %d!\" % (\"Alexey\", \"Alexey\", 3.14, 123))\n",
    "\n",
    "# Но функция format гибче - например, она позволяет повторять аргументы или менять их порядок"
   ]
  },
  {
   "cell_type": "code",
   "execution_count": 2,
   "metadata": {
    "collapsed": true
   },
   "outputs": [],
   "source": [
    "# В оставшееся время поиграем немного с датами и временем\n",
    "import datetime"
   ]
  },
  {
   "cell_type": "code",
   "execution_count": 120,
   "metadata": {
    "collapsed": true
   },
   "outputs": [],
   "source": [
    "now = datetime.date.today()"
   ]
  },
  {
   "cell_type": "code",
   "execution_count": 121,
   "metadata": {
    "collapsed": false
   },
   "outputs": [
    {
     "data": {
      "text/plain": [
       "datetime.date(2015, 9, 25)"
      ]
     },
     "execution_count": 121,
     "metadata": {},
     "output_type": "execute_result"
    }
   ],
   "source": [
    "now"
   ]
  },
  {
   "cell_type": "code",
   "execution_count": 122,
   "metadata": {
    "collapsed": false
   },
   "outputs": [],
   "source": [
    "birth = datetime.date(1997, 8, 8)"
   ]
  },
  {
   "cell_type": "code",
   "execution_count": 124,
   "metadata": {
    "collapsed": false
   },
   "outputs": [],
   "source": [
    "diff = now - birth"
   ]
  },
  {
   "cell_type": "code",
   "execution_count": 127,
   "metadata": {
    "collapsed": false
   },
   "outputs": [
    {
     "data": {
      "text/plain": [
       "6622"
      ]
     },
     "execution_count": 127,
     "metadata": {},
     "output_type": "execute_result"
    }
   ],
   "source": [
    "diff.days"
   ]
  },
  {
   "cell_type": "code",
   "execution_count": 126,
   "metadata": {
    "collapsed": false
   },
   "outputs": [
    {
     "data": {
      "text/plain": [
       "572140800.0"
      ]
     },
     "execution_count": 126,
     "metadata": {},
     "output_type": "execute_result"
    }
   ],
   "source": [
    "diff.total_seconds()"
   ]
  },
  {
   "cell_type": "code",
   "execution_count": 128,
   "metadata": {
    "collapsed": false
   },
   "outputs": [
    {
     "data": {
      "text/plain": [
       "18.0"
      ]
     },
     "execution_count": 128,
     "metadata": {},
     "output_type": "execute_result"
    }
   ],
   "source": [
    "# Вопрос из зала: почему так много секунд?\n",
    "# Проверим, переведя их в годы:\n",
    "diff.total_seconds() // 60 // 60 // 24 // 365"
   ]
  },
  {
   "cell_type": "code",
   "execution_count": 27,
   "metadata": {
    "collapsed": false
   },
   "outputs": [
    {
     "data": {
      "text/plain": [
       "'2038-01-19T06:14:07'"
      ]
     },
     "execution_count": 27,
     "metadata": {},
     "output_type": "execute_result"
    }
   ],
   "source": [
    "# В эпохе Unix секунды отсчитываются от 1 января 1970 года.\n",
    "# Когда исчерпаются 4 байта для хранения этих секунд?\n",
    "datetime.datetime.fromtimestamp(2**31 - 1).isoformat()"
   ]
  },
  {
   "cell_type": "code",
   "execution_count": null,
   "metadata": {
    "collapsed": true
   },
   "outputs": [],
   "source": []
  }
 ],
 "metadata": {
  "kernelspec": {
   "display_name": "Python 3",
   "language": "python",
   "name": "python3"
  },
  "language_info": {
   "codemirror_mode": {
    "name": "ipython",
    "version": 3
   },
   "file_extension": ".py",
   "mimetype": "text/x-python",
   "name": "python",
   "nbconvert_exporter": "python",
   "pygments_lexer": "ipython3",
   "version": "3.4.3"
  }
 },
 "nbformat": 4,
 "nbformat_minor": 0
}
